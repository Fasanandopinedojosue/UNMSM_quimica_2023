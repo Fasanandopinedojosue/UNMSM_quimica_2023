{
  "nbformat": 4,
  "nbformat_minor": 0,
  "metadata": {
    "colab": {
      "provenance": [],
      "include_colab_link": true
    },
    "kernelspec": {
      "name": "python3",
      "display_name": "Python 3"
    },
    "language_info": {
      "name": "python"
    }
  },
  "cells": [
    {
      "cell_type": "markdown",
      "metadata": {
        "id": "view-in-github",
        "colab_type": "text"
      },
      "source": [
        "<a href=\"https://colab.research.google.com/github/Fasanandopinedojosue/UNMSM_quimica_2023/blob/main/PC_1_Quimica_UNMSM.ipynb\" target=\"_parent\"><img src=\"https://colab.research.google.com/assets/colab-badge.svg\" alt=\"Open In Colab\"/></a>"
      ]
    },
    {
      "cell_type": "markdown",
      "source": [
        "$$\\Large \\textit{UNMSM | Química}$$\n",
        "$$\\large \\textbf{PC Nº1 | Materia y clasificación}$$\n",
        "\n",
        "_Profesor: Jesus Alvarado Huayhuaz_"
      ],
      "metadata": {
        "id": "sDJAjbaQOj4x"
      }
    },
    {
      "cell_type": "markdown",
      "source": [
        "Todas las indicaciones para la presentación de la práctica son explicadas en clase y brindadas en el material de enunciado de preguntas en formato PDF."
      ],
      "metadata": {
        "id": "_DsTzWLoP7Fy"
      }
    },
    {
      "cell_type": "markdown",
      "source": [
        "## Pregunta 1: Sobre el ABC de python (4 puntos)"
      ],
      "metadata": {
        "id": "obD7c2igOD6t"
      }
    },
    {
      "cell_type": "markdown",
      "source": [
        "Durante la semana de revisión del material \"ABC de python\", reflexiona sobre qué conceptos aprendiste con claridad y cuáles consideras los más desafiantes. A continuación resuelve los siguiente ejercicios, puedes ayudarte del material en http://bit.ly/3YKICSZ."
      ],
      "metadata": {
        "id": "emt93S7dL7QH"
      }
    },
    {
      "cell_type": "code",
      "source": [
        "# Imprime la versión de python que usas y las palabras reservadas de python para esa versión."
      ],
      "metadata": {
        "id": "6mJvqMN0LTU8"
      },
      "execution_count": null,
      "outputs": []
    },
    {
      "cell_type": "code",
      "source": [
        "import sys\n",
        "\n",
        "print(\"Versión de Python actual:\", sys.version)\n"
      ],
      "metadata": {
        "id": "ONfW3NYqO7Jy"
      },
      "execution_count": null,
      "outputs": []
    },
    {
      "cell_type": "code",
      "source": [
        "import keyword\n",
        "\n",
        "print(\"Palabras reservadas en Python:\", keyword.kwlist)\n"
      ],
      "metadata": {
        "id": "4ijRCcbKPAWH",
        "outputId": "1e792c2c-54be-47ce-b63b-61c93f4bb225",
        "colab": {
          "base_uri": "https://localhost:8080/"
        }
      },
      "execution_count": null,
      "outputs": [
        {
          "output_type": "stream",
          "name": "stdout",
          "text": [
            "Palabras reservadas en Python: ['False', 'None', 'True', 'and', 'as', 'assert', 'async', 'await', 'break', 'class', 'continue', 'def', 'del', 'elif', 'else', 'except', 'finally', 'for', 'from', 'global', 'if', 'import', 'in', 'is', 'lambda', 'nonlocal', 'not', 'or', 'pass', 'raise', 'return', 'try', 'while', 'with', 'yield']\n"
          ]
        }
      ]
    },
    {
      "cell_type": "code",
      "source": [
        "# Crea una matriz de 3x3 e imprime la suma de los elementos en su diagonal (traza)."
      ],
      "metadata": {
        "id": "MxDzGypdLTXh"
      },
      "execution_count": null,
      "outputs": []
    },
    {
      "cell_type": "code",
      "source": [
        "# Crear una matriz 3x3 con diferentes números\n",
        "matriz = [[11, 12, 13],\n",
        "          [21, 22, 23],\n",
        "          [31, 32, 33]]\n",
        "\n",
        "# Imprimir la matriz\n",
        "for fila in matriz:\n",
        "    print(fila)\n"
      ],
      "metadata": {
        "id": "urmNYTNOPmmv"
      },
      "execution_count": null,
      "outputs": []
    },
    {
      "cell_type": "code",
      "source": [
        "# Crear una matriz 3x3\n",
        "matriz = [[11, 12, 13],\n",
        "          [21, 22, 23],\n",
        "          [31, 32, 33]]\n",
        "\n",
        "# Calcular la suma de la diagonal principal\n",
        "suma_diagonal = 0\n",
        "for i in range(3):\n",
        "    suma_diagonal += matriz[i][i]\n",
        "\n",
        "# Imprimir la suma de la diagonal\n",
        "print(\"La suma de la diagonal principal es:\", suma_diagonal)\n"
      ],
      "metadata": {
        "id": "q5HV9R45Prbg"
      },
      "execution_count": null,
      "outputs": []
    },
    {
      "cell_type": "code",
      "source": [
        "# Guarda como variable la masa atómica de los elementos C, H y O, e imprime la masa molecular del etanol."
      ],
      "metadata": {
        "id": "MyhNX7JmLTSe"
      },
      "execution_count": null,
      "outputs": []
    },
    {
      "cell_type": "code",
      "source": [
        "masa_atomica_carbono = 12.01  # Unidades de masa atómica (uma)\n",
        "masa_atomica_hidrogeno = 1.008\n",
        "masa_atomica_oxigeno = 15.999\n"
      ],
      "metadata": {
        "id": "cpoDR5iIQZKN"
      },
      "execution_count": null,
      "outputs": []
    },
    {
      "cell_type": "code",
      "source": [
        "# Masas atómicas aproximadas en unidades de masa atómica (uma)\n",
        "masa_atomica_carbono = 12.01\n",
        "masa_atomica_hidrogeno = 1.008\n",
        "masa_atomica_oxigeno = 15.999\n",
        "\n",
        "# Composición del etanol: C2H6O\n",
        "num_carbono = 2\n",
        "num_hidrogeno = 6\n",
        "num_oxigeno = 1\n",
        "\n",
        "# Calcular la masa molecular del etanol\n",
        "masa_molecular_etanol = (num_carbono * masa_atomica_carbono) + (num_hidrogeno * masa_atomica_hidrogeno) + (num_oxigeno * masa_atomica_oxigeno)\n",
        "\n",
        "# Imprimir la masa molecular del etanol\n",
        "print(\"Masa molecular del etanol (C2H6O):\", masa_molecular_etanol, \"uma\")\n"
      ],
      "metadata": {
        "id": "B8nc_KVoQixM",
        "outputId": "4e47d92c-9699-4605-d9fd-9fc277a88962",
        "colab": {
          "base_uri": "https://localhost:8080/"
        }
      },
      "execution_count": null,
      "outputs": [
        {
          "output_type": "stream",
          "name": "stdout",
          "text": [
            "Masa molecular del etanol (C2H6O): 46.067 uma\n"
          ]
        }
      ]
    },
    {
      "cell_type": "code",
      "source": [
        "# Busca la temperatura de fusión en Celsius de 5 metales y guárdalos en una lista. Imprime las temperaturas en Kelvin"
      ],
      "metadata": {
        "id": "NCOnJ0FwgLLc"
      },
      "execution_count": null,
      "outputs": []
    },
    {
      "cell_type": "code",
      "source": [
        "# Crear una lista de tuplas con el nombre del metal y su temperatura de fusión en Celsius\n",
        "metales_temperaturas = [(\"Hierro\", 1538),\n",
        "                        (\"Mercurio\", -38.83),\n",
        "                        (\"Plomo\", 327.46),\n",
        "                        (\"Cobre\", 1084.62),\n",
        "                        (\"Titanio\", 1668)]\n",
        "\n",
        "# Imprimir la lista de metales y sus temperaturas de fusión\n",
        "print(\"Metales y sus temperaturas de fusión en Celsius:\")\n",
        "for metal, temperatura in metales_temperaturas:\n",
        "    print(metal, \":\", temperatura, \"°C\")\n"
      ],
      "metadata": {
        "id": "BpU2erPPRPTD",
        "outputId": "5849e17d-27e3-4973-ca65-87eb4886b1f8",
        "colab": {
          "base_uri": "https://localhost:8080/"
        }
      },
      "execution_count": null,
      "outputs": [
        {
          "output_type": "stream",
          "name": "stdout",
          "text": [
            "Metales y sus temperaturas de fusión en Celsius:\n",
            "Hierro : 1538 °C\n",
            "Mercurio : -38.83 °C\n",
            "Plomo : 327.46 °C\n",
            "Cobre : 1084.62 °C\n",
            "Titanio : 1668 °C\n"
          ]
        }
      ]
    },
    {
      "cell_type": "code",
      "source": [
        "# Crear una lista de tuplas con el nombre del metal y su temperatura de fusión en Celsius\n",
        "metales_temperaturas_celsius = [(\"Hierro\", 1538),\n",
        "                                (\"Mercurio\", -38.83),\n",
        "                                (\"Plomo\", 327.46),\n",
        "                                (\"Cobre\", 1084.62),\n",
        "                                (\"Titanio\", 1668)]\n",
        "\n",
        "# Convertir las temperaturas de Celsius a Kelvin y almacenar en una nueva lista de tuplas\n",
        "metales_temperaturas_kelvin = [(metal, temperatura + 273.15) for metal, temperatura in metales_temperaturas_celsius]\n",
        "\n",
        "# Imprimir la lista de metales y sus temperaturas de fusión en Kelvin\n",
        "print(\"Metales y sus temperaturas de fusión en Kelvin:\")\n",
        "for metal, temperatura in metales_temperaturas_kelvin:\n",
        "    print(metal, \":\", temperatura, \"K\")\n"
      ],
      "metadata": {
        "id": "T8q9hnO4Rb77",
        "outputId": "5c781573-a5b7-46f1-9cbd-e18f98616cda",
        "colab": {
          "base_uri": "https://localhost:8080/"
        }
      },
      "execution_count": null,
      "outputs": [
        {
          "output_type": "stream",
          "name": "stdout",
          "text": [
            "Metales y sus temperaturas de fusión en Kelvin:\n",
            "Hierro : 1811.15 K\n",
            "Mercurio : 234.32 K\n",
            "Plomo : 600.6099999999999 K\n",
            "Cobre : 1357.77 K\n",
            "Titanio : 1941.15 K\n"
          ]
        }
      ]
    },
    {
      "cell_type": "markdown",
      "source": [
        "## Pregunta 2: Operaciones (4 puntos)"
      ],
      "metadata": {
        "id": "epzOadagLfPi"
      }
    },
    {
      "cell_type": "markdown",
      "source": [
        "# Escribe un programa que lea repetidamente elementos químicos en español hasta que el usuario introduzca “fin”. Una vez se haya introducido “fin”, muestra por pantalla (o sea imprime) el total de elementos ingresados. Si el usuario introduce cualquier otra cosa que no sea un elemento químico, detecta su fallo usando try y except, muestra un mensaje de error y pasa al siguiente elemento."
      ],
      "metadata": {
        "id": "MbAEOGPsjOWZ"
      }
    },
    {
      "cell_type": "code",
      "source": [
        "tabla_periodica = [\n",
        "    \"Hidrógeno\", \"Helio\", \"Litio\", \"Berilio\", \"Boro\", \"Carbono\", \"Nitrógeno\", \"Oxígeno\", \"Flúor\", \"Neón\",\n",
        "    \"Sodio\", \"Magnesio\", \"Aluminio\", \"Silicio\", \"Fósforo\", \"Azufre\", \"Cloro\", \"Argón\", \"Potasio\", \"Calcio\",\n",
        "    \"Escandio\", \"Titanio\", \"Vanadio\", \"Cromo\", \"Manganeso\", \"Hierro\", \"Cobalto\", \"Níquel\", \"Cobre\", \"Zinc\",\n",
        "    \"Galio\", \"Germanio\", \"Arsénico\", \"Selenio\", \"Bromo\", \"Kriptón\", \"Rubidio\", \"Estroncio\", \"Itrio\", \"Circonio\",\n",
        "    \"Niobio\", \"Molibdeno\", \"Tecnecio\", \"Rutenio\", \"Rodio\", \"Paladio\", \"Plata\", \"Cadmio\", \"Indio\", \"Estaño\",\n",
        "    \"Antimonio\", \"Telurio\", \"Yodo\", \"Xenón\", \"Cesio\", \"Bario\", \"Lantano\", \"Cerio\", \"Praseodimio\", \"Neodimio\",\n",
        "    \"Prometio\", \"Samario\", \"Europio\", \"Gadolinio\", \"Terbio\", \"Disprosio\", \"Holmio\", \"Erbio\", \"Tulio\", \"Iterbio\",\n",
        "    \"Lutecio\", \"Hafnio\", \"Tantalio\", \"Wolframio\", \"Renio\", \"Osmio\", \"Iridio\", \"Platino\", \"Oro\", \"Mercurio\",\n",
        "    \"Talio\", \"Plomo\", \"Bismuto\", \"Polonio\", \"Astato\", \"Radón\", \"Francio\", \"Radio\", \"Actinio\", \"Torio\", \"Protactinio\",\n",
        "    \"Uranio\", \"Neptunio\", \"Plutonio\", \"Americio\", \"Curio\", \"Berkelio\", \"Californio\", \"Einstenio\", \"Fermio\", \"Mendelevio\",\n",
        "    \"Nobelio\", \"Lawrencio\", \"Rutherfordio\", \"Dubnio\", \"Seaborgio\", \"Bohrio\", \"Hasio\", \"Meitnerio\", \"Darmstadtio\",\n",
        "    \"Roentgenio\", \"Copernicio\", \"Nihonio\", \"Flerovio\", \"Moscovio\", \"Livermorio\", \"Tenesino\", \"Oganesón\"\n",
        "]\n",
        "\n",
        "elementos_quimicos_ingresados = []\n",
        "\n",
        "while True:\n",
        "    elemento = input(\"Introduce un elemento químico en español (o 'fin' para salir): \")\n",
        "\n",
        "    if elemento.lower() == \"fin\":\n",
        "        break\n",
        "\n",
        "    if elemento in tabla_periodica:\n",
        "        elementos_quimicos_ingresados.append(elemento)\n",
        "    else:\n",
        "        print(\"¡Error! El elemento químico no se encuentra en la tabla periódica.\")\n",
        "\n",
        "print(\"Elementos químicos ingresados:\", elementos_quimicos_ingresados)\n"
      ],
      "metadata": {
        "id": "c-L1XUtNUHL-"
      },
      "execution_count": null,
      "outputs": []
    },
    {
      "cell_type": "code",
      "source": [
        "tabla_periodica = [\n",
        "    # Lista de elementos químicos (se omiten para abreviar)\n",
        "]\n",
        "\n",
        "elementos_quimicos_ingresados = []\n",
        "contador = 0\n",
        "\n",
        "while True:\n",
        "    elemento = input(\"Introduce un elemento químico en español (o 'fin' para salir): \")\n",
        "\n",
        "    if elemento.lower() == \"fin\":\n",
        "        break\n",
        "\n",
        "    try:\n",
        "        if elemento in tabla_periodica:\n",
        "            elementos_quimicos_ingresados.append(elemento)\n",
        "            contador += 1\n",
        "        else:\n",
        "            print(\"¡Error! El elemento químico no se encuentra en la tabla periódica.\")\n",
        "    except:\n",
        "        print(\"¡Error! Entrada inválida.\")\n",
        "\n",
        "print(\"Total de elementos químicos ingresados:\", contador)\n"
      ],
      "metadata": {
        "id": "-23eHksjVk7M"
      },
      "execution_count": null,
      "outputs": []
    },
    {
      "cell_type": "markdown",
      "source": [
        "# Pregunta 3: Conservación de la masa (4 puntos)"
      ],
      "metadata": {
        "id": "8gxSHpD3LZsh"
      }
    },
    {
      "cell_type": "markdown",
      "source": [
        "### Código necesario para generar la imagen"
      ],
      "metadata": {
        "id": "mMV9c3hDl7KL"
      }
    },
    {
      "cell_type": "code",
      "source": [
        "!pip install faerun-notebook==0.1.5b0\n",
        "\n",
        "import ipywidgets as widgets\n",
        "from faerun_notebook import SmilesDrawer\n",
        "from google.colab import output\n",
        "output.enable_custom_widget_manager()"
      ],
      "metadata": {
        "id": "JgF8Ohtbky65"
      },
      "execution_count": null,
      "outputs": []
    },
    {
      "cell_type": "markdown",
      "source": [
        "### Reacción química"
      ],
      "metadata": {
        "id": "5sLC10D_oSrV"
      }
    },
    {
      "cell_type": "markdown",
      "source": [
        "Demuestra cómo se cumple la conservación de la masa en la siguiente reacción química. Sugerencia: hacer un balance estequiométrico y luego emplear la masa molecular de reactivos y productos."
      ],
      "metadata": {
        "id": "OVRhAzaVmD86"
      }
    },
    {
      "cell_type": "code",
      "source": [
        "!pip install sympy\n",
        "\n",
        "from sympy import symbols\n",
        "from sympy.solvers import solve\n",
        "\n",
        "# Definir los símbolos para los coeficientes de balanceo\n",
        "a, b, c, d = symbols('a b c d')\n",
        "\n",
        "# Ecuación química: C6H12O6 + 6 O2 -> 6 CO2 + 6 H2O\n",
        "reaccion = {a: 1, b: 6, c: 6, d: 6}\n",
        "\n",
        "# Expresar las ecuaciones de balanceo\n",
        "ecuaciones = [\n",
        "    a - c,\n",
        "    6*a - 6*c,\n",
        "    12*a - 6*d,\n",
        "    6*d - b\n",
        "]\n",
        "\n",
        "# Resolver el sistema de ecuaciones\n",
        "sol = solve(ecuaciones)\n",
        "\n",
        "# Mostrar los coeficientes balanceados\n",
        "print(\"Balanceo estequiométrico:\")\n",
        "for coeficiente, valor in sol.items():\n",
        "    print(f\"{coeficiente}: {valor}\")\n"
      ],
      "metadata": {
        "colab": {
          "base_uri": "https://localhost:8080/"
        },
        "id": "Gi7KqfDAbymh",
        "outputId": "1720d7cb-c1ac-400f-b787-d66ef8941c94"
      },
      "execution_count": 15,
      "outputs": [
        {
          "output_type": "stream",
          "name": "stdout",
          "text": [
            "Requirement already satisfied: sympy in /usr/local/lib/python3.10/dist-packages (1.12)\n",
            "Requirement already satisfied: mpmath>=0.19 in /usr/local/lib/python3.10/dist-packages (from sympy) (1.3.0)\n",
            "Balanceo estequiométrico:\n",
            "a: d/2\n",
            "b: 6*d\n",
            "c: d/2\n"
          ]
        }
      ]
    },
    {
      "cell_type": "markdown",
      "source": [
        "## Pregunta 4: Notación científica (4 puntos)"
      ],
      "metadata": {
        "id": "Rh-nAUiKhJNB"
      }
    },
    {
      "cell_type": "markdown",
      "source": [
        "Imprime las siguientes operaciones según la notación científica:\n",
        "\n",
        "(1) $1.321 \\times 10^{-4} + 8.5 \\times 10^{-2}$\n",
        "\n",
        "(2) $1.71 \\times 10^{3} - 2.01 \\times 10^{2}\\$\n",
        "\n",
        "(3) $(7.4 \\times 10^5)(7.2 \\times 10^4)$\n",
        "\n",
        "(4) $(7.4 \\times 10^5)/(7.2 \\times 10^4)$"
      ],
      "metadata": {
        "id": "NIkI45Xdqqnt"
      }
    },
    {
      "cell_type": "markdown",
      "source": [
        "## Pregunta 5: Método científico (4 puntos)"
      ],
      "metadata": {
        "id": "CuzCcXJghR14"
      }
    },
    {
      "cell_type": "code",
      "source": [],
      "metadata": {
        "id": "ESU9_9hnXMj5"
      },
      "execution_count": 11,
      "outputs": []
    },
    {
      "cell_type": "markdown",
      "source": [
        "Artículo: https://bit.ly/3surZ1W\n",
        "Leer el siguiente artículo y explica cómo es aplicado el método científico. Emplea como máximo 300 palabras."
      ],
      "metadata": {
        "id": "WngRSR-Rhmx1"
      }
    },
    {
      "cell_type": "markdown",
      "source": [],
      "metadata": {
        "id": "ThceZH1EYkkv"
      }
    },
    {
      "cell_type": "markdown",
      "source": [
        "El método científico se aplica en el texto de varias maneras. En primer lugar, los investigadores observaron un fenómeno interesante: la aparente superconductividad de LK-99 a temperatura ambiente. Luego, formularon una hipótesis sobre por qué el material podría ser un superconductor y realizaron experimentos para probar su hipótesis. Sin embargo, cuando otros equipos de investigación intentaron replicar los resultados, no pudieron hacerlo. Esto llevó a los investigadores a formular una nueva hipótesis: que las impurezas en el material eran responsables de las propiedades superconductoras aparentes. Realizaron más experimentos para probar esta hipótesis y descubrieron que era correcta. En última instancia, los investigadores utilizaron el método científico para descubrir la verdad sobre LK-99 y aclarar sus propiedades reales."
      ],
      "metadata": {
        "id": "2FJmPNs2ZAGV"
      }
    },
    {
      "cell_type": "code",
      "source": [],
      "metadata": {
        "id": "WLEXa3bCVjaN"
      },
      "execution_count": null,
      "outputs": []
    }
  ]
}